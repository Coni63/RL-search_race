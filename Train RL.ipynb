{
 "cells": [
  {
   "cell_type": "code",
   "execution_count": 1,
   "id": "af62370e",
   "metadata": {},
   "outputs": [],
   "source": [
    "from game import Game"
   ]
  },
  {
   "cell_type": "code",
   "execution_count": 4,
   "id": "9730f84f",
   "metadata": {},
   "outputs": [
    {
     "name": "stdout",
     "output_type": "stream",
     "text": [
      "Final score =  235.7326100780558\n"
     ]
    }
   ],
   "source": [
    "# simulation d'une game\n",
    "env = Game()\n",
    "\n",
    "state = env.set_game(env.all_tests[0])\n",
    "# state = env.reset(train=True)\n",
    "while True:        \n",
    "    angle = state[5]\n",
    "    thrust = 50\n",
    "\n",
    "    state, reward, done, output = env.step(angle, thrust)\n",
    "\n",
    "    if done:\n",
    "        print(\"Final score = \", env.pod.score)  # should be 235.732\n",
    "        break        "
   ]
  },
  {
   "cell_type": "code",
   "execution_count": 5,
   "id": "a72678f1",
   "metadata": {},
   "outputs": [
    {
     "name": "stdout",
     "output_type": "stream",
     "text": [
      "Final score =  235.7326100780558\n",
      "Final score =  486.08979176400607\n",
      "Final score =  1000\n",
      "Final score =  1000\n",
      "Final score =  1000\n",
      "Final score =  1000\n",
      "Final score =  1000\n",
      "Final score =  1000\n",
      "Final score =  1000\n",
      "Final score =  1000\n",
      "Final score =  1000\n",
      "Final score =  236.94397207158025\n",
      "Final score =  1000\n",
      "Final score =  568.5464576351826\n",
      "Final score =  1000\n",
      "Final score =  1000\n",
      "Final score =  586.6979985510794\n",
      "Final score =  1000\n",
      "Final score =  1000\n",
      "Final score =  486.7276531893256\n",
      "Final score =  1000\n",
      "Final score =  1000\n",
      "Final score =  498.04401005690636\n",
      "Final score =  1000\n",
      "Final score =  1000\n",
      "Final score =  570.3834893371729\n",
      "Final score =  1000\n",
      "Final score =  1000\n",
      "Final score =  1000\n",
      "Final score =  1000\n",
      "Final score =  1000\n",
      "Final score =  1000\n",
      "Final score =  474.6523842860571\n",
      "Final score =  1000\n",
      "Final score =  1000\n",
      "Final score =  1000\n",
      "Final score =  1000\n",
      "Final score =  1000\n",
      "Final score =  1000\n",
      "Final score =  594.7079002105263\n",
      "Final score =  582.1238824136669\n",
      "Final score =  1000\n",
      "Final score =  1000\n",
      "Final score =  1000\n",
      "Final score =  389.1273688184149\n",
      "Final score =  237.7622422802156\n",
      "Final score =  468.2480671398404\n",
      "Final score =  1000\n",
      "Final score =  1000\n",
      "Final score =  1000\n",
      "Total Test score =  42415.78782783203\n"
     ]
    }
   ],
   "source": [
    "# simulation d'un submit\n",
    "\n",
    "env = Game()\n",
    "\n",
    "total_score = 0\n",
    "for test_set in env.all_tests:\n",
    "    state = env.set_game(test_set)\n",
    "    while True:        \n",
    "        angle = state[5]\n",
    "        thrust = 50\n",
    "\n",
    "        state, reward, done, output = env.step(angle, thrust)\n",
    "\n",
    "        if done:\n",
    "            print(\"Final score = \", env.pod.score)  # should be 235.732\n",
    "            total_score += env.pod.score\n",
    "            break     \n",
    "            \n",
    "print(\"Total Test score = \", total_score)  # should be 42415.8"
   ]
  },
  {
   "cell_type": "code",
   "execution_count": null,
   "id": "ed224a58",
   "metadata": {},
   "outputs": [],
   "source": []
  }
 ],
 "metadata": {
  "kernelspec": {
   "display_name": "Python 3",
   "language": "python",
   "name": "python3"
  },
  "language_info": {
   "codemirror_mode": {
    "name": "ipython",
    "version": 3
   },
   "file_extension": ".py",
   "mimetype": "text/x-python",
   "name": "python",
   "nbconvert_exporter": "python",
   "pygments_lexer": "ipython3",
   "version": "3.8.8"
  }
 },
 "nbformat": 4,
 "nbformat_minor": 5
}
